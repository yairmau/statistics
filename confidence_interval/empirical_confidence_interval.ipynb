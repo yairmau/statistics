{
 "cells": [
  {
   "cell_type": "code",
   "execution_count": null,
   "id": "06fdfa31",
   "metadata": {},
   "outputs": [],
   "source": [
    "N_bootstrap = 1000\n",
    "mean_list = []\n",
    "for i in range(N_bootstrap):\n",
    "    sample_bootstrap = np.random.choice(sample, size=N, replace=True)\n",
    "    mean_list.append(sample_bootstrap.mean())\n",
    "mean_list = np.array(mean_list)"
   ]
  },
  {
   "cell_type": "code",
   "execution_count": null,
   "id": "f00e90cd",
   "metadata": {},
   "outputs": [],
   "source": [
    "fig, ax = plt.subplots(figsize=(10, 6))\n",
    "sns.histplot(mean_list, stat='density', bins=30, color='tab:blue', ax=ax)\n",
    "mean_list.mean()"
   ]
  }
 ],
 "metadata": {
  "language_info": {
   "name": "python"
  }
 },
 "nbformat": 4,
 "nbformat_minor": 5
}
