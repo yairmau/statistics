{
 "cells": [
  {
   "cell_type": "code",
   "execution_count": 1,
   "id": "85af6602",
   "metadata": {},
   "outputs": [
    {
     "ename": "ModuleNotFoundError",
     "evalue": "No module named 'pygam'",
     "output_type": "error",
     "traceback": [
      "\u001b[0;31m---------------------------------------------------------------------------\u001b[0m",
      "\u001b[0;31mModuleNotFoundError\u001b[0m                       Traceback (most recent call last)",
      "Cell \u001b[0;32mIn[1], line 3\u001b[0m\n\u001b[1;32m      1\u001b[0m \u001b[38;5;66;03m# install if needed: pip install pygam\u001b[39;00m\n\u001b[0;32m----> 3\u001b[0m \u001b[38;5;28;01mfrom\u001b[39;00m \u001b[38;5;21;01mpygam\u001b[39;00m \u001b[38;5;28;01mimport\u001b[39;00m LinearGAM, s\n\u001b[1;32m      4\u001b[0m \u001b[38;5;28;01mimport\u001b[39;00m \u001b[38;5;21;01mnumpy\u001b[39;00m \u001b[38;5;28;01mas\u001b[39;00m \u001b[38;5;21;01mnp\u001b[39;00m\n\u001b[1;32m      5\u001b[0m \u001b[38;5;28;01mimport\u001b[39;00m \u001b[38;5;21;01mmatplotlib\u001b[39;00m\u001b[38;5;21;01m.\u001b[39;00m\u001b[38;5;21;01mpyplot\u001b[39;00m \u001b[38;5;28;01mas\u001b[39;00m \u001b[38;5;21;01mplt\u001b[39;00m\n",
      "\u001b[0;31mModuleNotFoundError\u001b[0m: No module named 'pygam'"
     ]
    }
   ],
   "source": [
    "# install if needed: pip install pygam\n",
    "\n",
    "from pygam import LinearGAM, s\n",
    "import numpy as np\n",
    "import matplotlib.pyplot as plt\n",
    "\n",
    "# generate synthetic data\n",
    "np.random.seed(0)\n",
    "X = np.linspace(0, 10, 100)\n",
    "y = np.sin(X) + 0.3 * np.random.randn(100)\n",
    "\n",
    "# reshape X to 2D (pygam expects 2D features)\n",
    "X = X.reshape(-1, 1)\n",
    "\n",
    "# fit GAM with a single spline term\n",
    "gam = LinearGAM(s(0)).fit(X, y)\n",
    "\n",
    "# prediction grid\n",
    "XX = np.linspace(0, 10, 500).reshape(-1, 1)\n",
    "y_pred = gam.predict(XX)\n",
    "\n",
    "# plot results\n",
    "fig, ax = plt.subplots()\n",
    "ax.scatter(X, y, color='gray', alpha=0.5, label='data')\n",
    "ax.plot(XX, y_pred, linewidth=2, label='GAM fit')\n",
    "ax.legend()\n"
   ]
  }
 ],
 "metadata": {
  "kernelspec": {
   "display_name": "olympus",
   "language": "python",
   "name": "python3"
  },
  "language_info": {
   "codemirror_mode": {
    "name": "ipython",
    "version": 3
   },
   "file_extension": ".py",
   "mimetype": "text/x-python",
   "name": "python",
   "nbconvert_exporter": "python",
   "pygments_lexer": "ipython3",
   "version": "3.11.10"
  }
 },
 "nbformat": 4,
 "nbformat_minor": 5
}
