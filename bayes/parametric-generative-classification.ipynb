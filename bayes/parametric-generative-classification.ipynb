{
 "cells": [
  {
   "cell_type": "markdown",
   "metadata": {},
   "source": [
    "---\n",
    "title: \"parametric generative classification\"\n",
    "execute:\n",
    "  # echo: false\n",
    "  freeze: auto  # re-render only when source changes\n",
    "format:\n",
    "  html:\n",
    "    code-fold: true\n",
    "    code-summary: \"Show the code\"\n",
    "---"
   ]
  },
  {
   "cell_type": "markdown",
   "metadata": {},
   "source": [
    "## question\n",
    "\n",
    "We are given a list of heights for men and women. Given one more data point (180 cm), could we assign a probability that it belongs to either class?"
   ]
  },
  {
   "cell_type": "code",
   "execution_count": 1,
   "metadata": {},
   "outputs": [],
   "source": [
    "#| code-summary: \"import libraries\"\n",
    "import pandas as pd\n",
    "import numpy as np\n",
    "import matplotlib.pyplot as plt\n",
    "import seaborn as sns\n",
    "sns.set_theme(style=\"ticks\", font_scale=1.5)\n",
    "from scipy.stats import norm"
   ]
  },
  {
   "cell_type": "code",
   "execution_count": 2,
   "metadata": {},
   "outputs": [
    {
     "data": {
      "text/html": [
       "<div>\n",
       "<style scoped>\n",
       "    .dataframe tbody tr th:only-of-type {\n",
       "        vertical-align: middle;\n",
       "    }\n",
       "\n",
       "    .dataframe tbody tr th {\n",
       "        vertical-align: top;\n",
       "    }\n",
       "\n",
       "    .dataframe thead th {\n",
       "        text-align: right;\n",
       "    }\n",
       "</style>\n",
       "<table border=\"1\" class=\"dataframe\">\n",
       "  <thead>\n",
       "    <tr style=\"text-align: right;\">\n",
       "      <th></th>\n",
       "      <th>height (cm)</th>\n",
       "      <th>sex</th>\n",
       "    </tr>\n",
       "  </thead>\n",
       "  <tbody>\n",
       "    <tr>\n",
       "      <th>0</th>\n",
       "      <td>178.558416</td>\n",
       "      <td>M</td>\n",
       "    </tr>\n",
       "    <tr>\n",
       "      <th>1</th>\n",
       "      <td>173.334306</td>\n",
       "      <td>M</td>\n",
       "    </tr>\n",
       "    <tr>\n",
       "      <th>2</th>\n",
       "      <td>183.084154</td>\n",
       "      <td>M</td>\n",
       "    </tr>\n",
       "    <tr>\n",
       "      <th>3</th>\n",
       "      <td>178.236047</td>\n",
       "      <td>F</td>\n",
       "    </tr>\n",
       "    <tr>\n",
       "      <th>4</th>\n",
       "      <td>175.868642</td>\n",
       "      <td>M</td>\n",
       "    </tr>\n",
       "    <tr>\n",
       "      <th>...</th>\n",
       "      <td>...</td>\n",
       "      <td>...</td>\n",
       "    </tr>\n",
       "    <tr>\n",
       "      <th>345</th>\n",
       "      <td>177.387837</td>\n",
       "      <td>M</td>\n",
       "    </tr>\n",
       "    <tr>\n",
       "      <th>346</th>\n",
       "      <td>157.122325</td>\n",
       "      <td>F</td>\n",
       "    </tr>\n",
       "    <tr>\n",
       "      <th>347</th>\n",
       "      <td>166.891746</td>\n",
       "      <td>F</td>\n",
       "    </tr>\n",
       "    <tr>\n",
       "      <th>348</th>\n",
       "      <td>181.090312</td>\n",
       "      <td>M</td>\n",
       "    </tr>\n",
       "    <tr>\n",
       "      <th>349</th>\n",
       "      <td>171.479631</td>\n",
       "      <td>M</td>\n",
       "    </tr>\n",
       "  </tbody>\n",
       "</table>\n",
       "<p>350 rows × 2 columns</p>\n",
       "</div>"
      ],
      "text/plain": [
       "     height (cm) sex\n",
       "0     178.558416   M\n",
       "1     173.334306   M\n",
       "2     183.084154   M\n",
       "3     178.236047   F\n",
       "4     175.868642   M\n",
       "..           ...  ..\n",
       "345   177.387837   M\n",
       "346   157.122325   F\n",
       "347   166.891746   F\n",
       "348   181.090312   M\n",
       "349   171.479631   M\n",
       "\n",
       "[350 rows x 2 columns]"
      ]
     },
     "execution_count": 2,
     "metadata": {},
     "output_type": "execute_result"
    }
   ],
   "source": [
    "#| code-summary: \"generate data\"\n",
    "df_boys = pd.read_csv('../archive/data/height/boys_height_stats.csv', index_col=0)\n",
    "df_girls = pd.read_csv('../archive/data/height/girls_height_stats.csv', index_col=0)\n",
    "age = 20.0\n",
    "mu_boys = df_boys.loc[age, 'mu']\n",
    "mu_girls = df_girls.loc[age, 'mu']\n",
    "sigma_boys = df_boys.loc[age, 'sigma']\n",
    "sigma_girls = df_girls.loc[age, 'sigma']\n",
    "\n",
    "N_boys = 150\n",
    "N_girls = 200\n",
    "np.random.seed(314)  # set scipy seed for reproducibility\n",
    "sample_boys = norm.rvs(size=N_boys, loc=mu_boys, scale=sigma_boys)\n",
    "sample_girls = norm.rvs(size=N_girls, loc=mu_girls, scale=sigma_girls)\n",
    "# pandas dataframe with the two samples in it\n",
    "df = pd.DataFrame({\n",
    "    'height (cm)': np.concatenate([sample_boys, sample_girls]),\n",
    "    'sex': ['M'] * N_boys + ['F'] * N_girls\n",
    "})\n",
    "df = df.sample(frac=1, random_state=314).reset_index(drop=True)\n",
    "df"
   ]
  },
  {
   "cell_type": "markdown",
   "metadata": {},
   "source": [
    "## explaining \"parametric generative classification\"\n",
    "\n",
    "* **Parametric**: we assume a specific distribution for the data. In this case, we'll assume a Gaussian distribution. We call this parametric because the distribution can be fully described by a finite set of **parameters** (mean and variance for Gaussian).\n",
    "* **Generative**: we model the distribution of each class separately. This would allow us to **generate** new data points from the learned distributions. \"Learned\" means estimating the parameters of the distributions from the sample data.\n",
    "* **Classification**: we classify a new data point by comparing the likelihoods of it belonging to each class, given the learned distributions.\n",
    "\n",
    "## visualizing the problem"
   ]
  },
  {
   "cell_type": "code",
   "execution_count": 3,
   "metadata": {},
   "outputs": [],
   "source": [
    "are_male = df['sex']=='M'\n",
    "boys_sample = df[are_male]['height (cm)'].to_numpy()\n",
    "girls_sample = df[~are_male]['height (cm)'].to_numpy()\n",
    "\n",
    "xbar_boys = boys_sample.mean()\n",
    "xbar_girls = girls_sample.mean()\n",
    "s_boys = boys_sample.std(ddof=1)\n",
    "s_girls = girls_sample.std(ddof=1)"
   ]
  },
  {
   "cell_type": "code",
   "execution_count": 4,
   "metadata": {},
   "outputs": [
    {
     "name": "stdout",
     "output_type": "stream",
     "text": [
      "men:   mean=177.4 cm, std=6.7 cm\n",
      "women: mean=163.5 cm, std=7.3 cm\n"
     ]
    },
    {
     "data": {
      "image/png": "[encoded data removed]",
      "text/plain": [
       "<Figure size 800x600 with 1 Axes>"
      ]
     },
     "metadata": {},
     "output_type": "display_data"
    }
   ],
   "source": [
    "fig, ax = plt.subplots(figsize=(8, 6))\n",
    "\n",
    "# plot histogram\n",
    "bins = np.arange(135, 210, 5)\n",
    "ax.hist(boys_sample, bins=bins, alpha=0.3, density=True, label='men', color='tab:blue', histtype='stepfilled')\n",
    "ax.hist(girls_sample, bins=bins, alpha=0.3, density=True, label='women', color='tab:orange', histtype='stepfilled')\n",
    "# plot gaussian pdf based on sample mean and std\n",
    "x = np.arange(135, 210, 0.5)\n",
    "pdf_boys = norm.pdf(x, loc=xbar_boys, scale=s_boys)\n",
    "pdf_girls = norm.pdf(x, loc=xbar_girls, scale=s_girls)\n",
    "ax.plot(x, pdf_boys, color='tab:blue')\n",
    "ax.plot(x, pdf_girls, color='tab:orange')\n",
    "h0 = 180\n",
    "# plot vertical line at h0\n",
    "ax.axvline(h0, color='gray', linestyle='--')\n",
    "# plot circles where each pdf intersects h0\n",
    "likelihood_boys = norm.pdf(h0, loc=xbar_boys, scale=s_boys)\n",
    "likelihood_girls = norm.pdf(h0, loc=xbar_girls, scale=s_girls)\n",
    "ax.plot(h0, likelihood_boys, marker='o', color='tab:blue')\n",
    "ax.plot(h0, likelihood_girls, marker='o', color='tab:orange')\n",
    "\n",
    "print(f\"men:   mean={xbar_boys:.1f} cm, std={s_boys:.1f} cm\")\n",
    "print(f\"women: mean={xbar_girls:.1f} cm, std={s_girls:.1f} cm\")\n",
    "\n",
    "ax.legend(frameon=False)\n",
    "ax.set_xlabel('height (cm)')\n",
    "ax.set_ylabel('pdf');"
   ]
  },
  {
   "cell_type": "markdown",
   "metadata": {},
   "source": [
    "From the sample data, we can compute the mean and standard deviation for each sex (the generative part). We printed these values above. We can then use these parameters to compute the likelihood of the new data point (180 cm) belonging to each class using the Gaussian probability density function (the parametric part). These are plotted as circles in the graph.\n",
    "\n",
    "## Bayes' theorem\n",
    "\n",
    "We can then use Bayes' theorem to compute the posterior probabilities of the new data point belonging to each class (the classification part). Bayes' theorem states that:\n",
    "\n",
    "$$\n",
    "P(\\text{man} | x) = \\frac{P(x | \\text{man})}{P(x)} P(\\text{man})\n",
    "$$\n",
    "\n",
    "* **posterior**, $P(\\text{man} | x)$. This is what we are looking for, the probability of a new data point corresponding to a man, given that its height is $x$.\n",
    "* **likelihood**, $P(x | \\text{man})$. This is the likelihood of observing a height $x$ given that we know it is a man.\n",
    "* **evidence**, $P(x)$. This is the total probability of observing a height $x$ across all classes (regardless of sex). It acts as a normalization factor. We calculate the evidence using the law of total probability:\n",
    "  \\begin{align*}\n",
    "  P(x) &= P(x \\cap \\text{man}) + P(x \\cap \\text{woman}) \\\\\n",
    "       &=P(x|\\text{man})\\cdot P(\\text{man}) + P(x|\\text{woman})\\cdot P(\\text{woman})\n",
    "  \\end{align*}\n",
    "* **prior**, $P(\\text{man})$. This is the overall probability of a person being a man in my dataset (regardless of their height).\n",
    "\n",
    "\n",
    "Think of this as a \"battle of likelihoods,\" adjusted for the group sizes. You have two groups, men and women, and you've modeled their typical heights. When you get a new height, $x$, you ask two main questions:\n",
    "\n",
    "1.  **Likelihood Question:** How \"typical\" is height $x$ for a man compared to how typical it is for a woman? If men in your data are generally tall and $x$ is a tall height, it's more likely to be a man. We measure this \"typicalness\" using a probability distribution.\n",
    "2.  **Prior Belief Question:** In your dataset, are men or women more common? If your dataset contains 90 women and 10 men, any new person is, initially, more likely to be a woman, regardless of their height.\n"
   ]
  },
  {
   "cell_type": "markdown",
   "metadata": {},
   "source": [
    "## Step-by-Step Calculation\n",
    "\n",
    "**Step 1: Model Your Data**\n",
    "\n",
    "We assume a Gaussian distribution, and calculate the sample mean and standard deviation for each sex."
   ]
  },
  {
   "cell_type": "code",
   "execution_count": 5,
   "metadata": {},
   "outputs": [
    {
     "name": "stdout",
     "output_type": "stream",
     "text": [
      "men:   mean=177.4 cm, std=6.7 cm\n",
      "women: mean=163.5 cm, std=7.3 cm\n"
     ]
    }
   ],
   "source": [
    "#| output: true\n",
    "#| echo: false\n",
    "print(f\"men:   mean={xbar_boys:.1f} cm, std={s_boys:.1f} cm\")\n",
    "print(f\"women: mean={xbar_girls:.1f} cm, std={s_girls:.1f} cm\")"
   ]
  },
  {
   "cell_type": "markdown",
   "metadata": {},
   "source": [
    "**Step 2: Calculate the Priors**\n",
    "\n",
    "The priors are simply the proportion of each group in the total dataset.\n",
    "\n",
    "$$P(\\text{Man}) = \\frac{N_\\text{men}}{N_\\text{men} + N_\\text{women}}$$\n",
    "\n",
    "$$P(\\text{Woman}) = \\frac{N_\\text{women}}{N_\\text{men} + N_\\text{women}}$$\n",
    "\n",
    "**Step 3: Calculate the Likelihoods**\n",
    "\n",
    "Using the normal distribution's probability density function (PDF), find the likelihood of the new height $h$ for each model. The PDF formula is:\n",
    "\n",
    "$$f(x | \\bar{x}, s) = \\frac{1}{s\\sqrt{2\\pi}} e^{-\\frac{1}{2}\\left(\\frac{x-\\bar{x}}{s}\\right)^2}$$\n",
    "\n",
    "1.  **Likelihood for Men:** Plug $x$ into the PDF for the men's model.  \n",
    "    $P(x | \\text{Man}) = f(x | \\bar{x}_\\text{men}, s_\\text{men})$\n",
    "\n",
    "2.  **Likelihood for Women:** Plug $x$ into the PDF for the women's model.  \n",
    "    $P(x | \\text{Woman}) = f(x | \\bar{x}_\\text{women}, s_\\text{women})$\n",
    "\n",
    "**Step 4: Put It All Together**\n",
    "\n",
    "Now, apply Bayes' Theorem. The \"evidence\" term $P(x)$ in the denominator is the sum of all ways you could observe height $x$:\n",
    "\n",
    "$$\n",
    "P(x) = P(x | \\text{Man}) \\cdot P(\\text{Man}) + P(x | \\text{Woman}) \\cdot P(\\text{Woman})\n",
    "$$\n",
    "\n",
    "So, the final calculation for the probability of being a man is:\n",
    "\n",
    "$$\n",
    "P(\\text{Man} | x) = \\frac{P(x | \\text{Man}) \\cdot P(\\text{Man})}{P(x | \\text{Man}) \\cdot P(\\text{Man}) + P(x | \\text{Woman}) \\cdot P(\\text{Woman})}\n",
    "$$.\n",
    "\n",
    "Crunching the number gives:"
   ]
  },
  {
   "cell_type": "code",
   "execution_count": 6,
   "metadata": {},
   "outputs": [
    {
     "name": "stdout",
     "output_type": "stream",
     "text": [
      "Answer: 90.92%.\n"
     ]
    }
   ],
   "source": [
    "h0 = 180.0\n",
    "likelihood_boys = norm.pdf(h0, loc=xbar_boys, scale=s_boys)\n",
    "likelihood_girls = norm.pdf(h0, loc=xbar_girls, scale=s_girls)\n",
    "prior_boys = N_boys / (N_boys + N_girls)\n",
    "prior_girls = N_girls / (N_boys + N_girls)\n",
    "evidence = likelihood_boys * prior_boys + likelihood_girls * prior_girls\n",
    "p_man_given_180 = likelihood_boys * prior_boys / evidence\n",
    "print(f\"Answer: {p_man_given_180 * 100:.2f}%.\")"
   ]
  },
  {
   "cell_type": "markdown",
   "metadata": {},
   "source": [
    "<div class=\"alert alert-primary\">\n",
    "The probability that the person is a man, given that their height is 180 cm, is 90.92%\n",
    "</div>"
   ]
  }
 ],
 "metadata": {
  "kernelspec": {
   "display_name": "olympus",
   "language": "python",
   "name": "python3"
  },
  "language_info": {
   "codemirror_mode": {
    "name": "ipython",
    "version": 3
   },
   "file_extension": ".py",
   "mimetype": "text/x-python",
   "name": "python",
   "nbconvert_exporter": "python",
   "pygments_lexer": "ipython3",
   "version": "3.11.9"
  }
 },
 "nbformat": 4,
 "nbformat_minor": 2
}
