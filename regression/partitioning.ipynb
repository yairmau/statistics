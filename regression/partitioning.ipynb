{
 "cells": [
  {
   "cell_type": "markdown",
   "metadata": {},
   "source": [
    "---\n",
    "title: \"partitioning of the sum of squares\"\n",
    "execute:\n",
    "  # echo: false\n",
    "  freeze: auto  # re-render only when source changes\n",
    "format:\n",
    "  html:\n",
    "    code-fold: true\n",
    "    code-summary: \"Show the code\"\n",
    "---"
   ]
  },
  {
   "cell_type": "markdown",
   "metadata": {},
   "source": [
    "One of the most important equations in regression analysis is the partitioning of the sum of squares (SS).\n",
    "\n",
    "$$\n",
    "SS_\\text{Total} = SS_\\text{Model} + SS_\\text{Error}\n",
    "$$\n",
    "\n",
    "This equation states that the total variability in the response variable can be partitioned into two components: the variability explained by the regression model and the variability that is not explained by the model (the residuals).\n",
    "\n",
    "In a more precise mathematical language, the equation states that:\n",
    "\n",
    "$$\n",
    "\\sum_{i=1}^{n} (y_i - \\bar{y})^2 = \\sum_{i=1}^{n} (\\hat{y}_i - \\bar{y})^2 + \\sum_{i=1}^{n} (y_i - \\hat{y}_i)^2\n",
    "$$\n",
    "\n",
    "where:\n",
    "\n",
    "- $y_i$ are the observed values,\n",
    "- $\\hat{y}_i$ are the predicted values from the regression model,\n",
    "- $\\bar{y}$ is the mean of the observed values,\n",
    "- $n$ is the number of observations."
   ]
  },
  {
   "cell_type": "markdown",
   "metadata": {},
   "source": []
  },
  {
   "cell_type": "markdown",
   "metadata": {},
   "source": [
    "## high-dimensional Pythagorean theorem\n",
    "\n",
    "Why is this equation true? It's easiest to understand this equation by thinking of it as a high-dimensional version of the Pythagorean theorem:\n",
    "\n",
    "$$\n",
    "\\lVert T \\rVert ^2 = \\lVert M \\rVert ^2 + \\lVert E \\rVert ^2,\n",
    "$$\n",
    "\n",
    "where:\n",
    "\n",
    "* $T = y - \\bar{y}$ is the total vector, the vector of deviations of the observed values from their mean;\n",
    "* $M = \\hat{y} - \\bar{y}$ is the model vector, the vector of deviations of the predicted values from the mean of the observed values;\n",
    "* $E = y - \\hat{y}$ is the error vector, the vector of residuals, or deviations of the observed values from the predicted values.\n",
    "\n",
    "I omitted the subscript $i$ to emphasize that these are vectors, not scalars.\n",
    "\n",
    "Make sure you understand the figure below, already presented in a previous chapter.\n",
    "\n",
    "![](3dplot_A.png)\n",
    "\n",
    "The vector $r=E$ in black is the residual or error vector. It is orthogonal to the subspace spanned by the column vector of the design matrix, represented in this image by the blue plane.\n",
    "\n",
    "The vector $M$ is not shown, but it necessarily lies in the blue plane. How do we know that? Because the predicted values $\\hat{y}$ are a linear combination of the columns of the design matrix, and therefore $\\hat{y}$ lies in the column space of the design matrix. Since $\\bar{y}$ is a constant vector (a multiple of the vector of ones), it also lies in the column space of the design matrix. Therefore, $M = \\hat{y} - \\bar{y}$ lies in the column space of the design matrix.\n",
    "\n",
    "From the above, we can already conclude that $E$ is orthogonal to $M$. These are the two legs of a right triangle. We now need a hypotenuse. The hypotenuse is the total vector $T = y - \\bar{y}$, which is the sum of the other two vectors:\n",
    "\n",
    "$$\n",
    "T = M + E.\n",
    "$$\n",
    "\n",
    "This is easy to see by substituting the definitions of $M$ and $E$:\n",
    "\n",
    "$$\n",
    "T = y - \\bar{y} = (\\hat{y} - \\bar{y}) + (y - \\hat{y}) = M + E.\n",
    "$$\n",
    "\n"
   ]
  },
  {
   "cell_type": "code",
   "execution_count": 35,
   "metadata": {},
   "outputs": [
    {
     "data": {
      "image/png": "[encoded data removed]",
      "text/plain": [
       "<Figure size 800x600 with 1 Axes>"
      ]
     },
     "metadata": {},
     "output_type": "display_data"
    }
   ],
   "source": [
    "import matplotlib.pyplot as plt\n",
    "fig, ax = plt.subplots(figsize=(8, 6))\n",
    "ax.set_aspect('equal', adjustable='box')\n",
    "ax.annotate('', xy=(2, 0), xytext=(0, 0), arrowprops=dict(facecolor='black', edgecolor='black', width=2, headwidth=10, headlength=10))\n",
    "ax.annotate('', xy=(2, 1), xytext=(2, 0), arrowprops=dict(facecolor='blue', edgecolor='blue', width=2, headwidth=10, headlength=10))\n",
    "ax.annotate('', xy=(2, 1), xytext=(0, 0), arrowprops=dict(facecolor='red', edgecolor='red', width=2, headwidth=10, headlength=10))\n",
    "\n",
    "ax.text(1.0, 0.0, 'M', fontsize=20, ha='center', va='bottom')\n",
    "ax.text(2.03, 0.5, 'E', fontsize=20, ha='left', va='center')\n",
    "ax.text(1.0, 0.55, 'T', fontsize=20, ha='center', va='bottom')\n",
    "ax.set_xticks([])\n",
    "ax.set_yticks([])\n",
    "ax.set_frame_on(False)\n",
    "ax.set_xlim(0, 2)\n",
    "ax.set_ylim(0, 1);"
   ]
  },
  {
   "cell_type": "markdown",
   "metadata": {},
   "source": []
  }
 ],
 "metadata": {
  "kernelspec": {
   "display_name": "olympus",
   "language": "python",
   "name": "python3"
  },
  "language_info": {
   "codemirror_mode": {
    "name": "ipython",
    "version": 3
   },
   "file_extension": ".py",
   "mimetype": "text/x-python",
   "name": "python",
   "nbconvert_exporter": "python",
   "pygments_lexer": "ipython3",
   "version": "3.11.9"
  }
 },
 "nbformat": 4,
 "nbformat_minor": 2
}
