{
 "cells": [
  {
   "cell_type": "markdown",
   "metadata": {},
   "source": [
    "---\n",
    "title: \"correlation and linear regression\"\n",
    "execute:\n",
    "  # echo: false\n",
    "  freeze: auto  # re-render only when source changes\n",
    "format:\n",
    "  html:\n",
    "    code-fold: true\n",
    "    code-summary: \"Show the code\"\n",
    "---"
   ]
  },
  {
   "cell_type": "markdown",
   "metadata": {},
   "source": [
    "The correlation coefficient is closely related to linear regression. In simple linear regression, we model the relationship between a dependent variable $Y$ and an independent variable $X$ as:\n",
    "\n",
    "$$\n",
    "Y = \\beta_0 + \\beta_1 X + \\epsilon\n",
    "$$\n",
    "where $\\beta_0$ is the intercept, $\\beta_1$ is the slope, and $\\epsilon$ is the error term.\n",
    "The slope $\\beta_1$ can be expressed in terms of the correlation coefficient:\n",
    "\n",
    "$$\n",
    "\\beta_1 = \\rho_{X,Y} \\frac{\\sigma_Y}{\\sigma_X}\n",
    "$$.\n",
    "\n",
    "The proof is as follows:\n",
    "\n",
    "\\begin{align*}\n",
    "\\beta_1 &= \\frac{Cov(X, Y)}{Var(X)} \\\\\n",
    "&= \\frac{\\rho_{X,Y} \\sigma_X \\sigma_Y}{\\sigma_X^2} \\\\\n",
    "&= \\rho_{X,Y} \\frac{\\sigma_Y}{\\sigma_X}\n",
    "\\end{align*}\n",
    "\n",
    "\n",
    "\n",
    "This shows that the slope of the regression line is directly proportional to the correlation coefficient. A higher absolute value of the correlation coefficient indicates a steeper slope, while a lower absolute value indicates a flatter slope."
   ]
  }
 ],
 "metadata": {
  "language_info": {
   "name": "python"
  }
 },
 "nbformat": 4,
 "nbformat_minor": 2
}
