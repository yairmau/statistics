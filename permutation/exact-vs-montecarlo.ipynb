{
 "cells": [
  {
   "cell_type": "markdown",
   "id": "8db68826",
   "metadata": {},
   "source": [
    "---\n",
    "title: \"exact vs. Monte Carlo permutation tests\"\n",
    "execute:\n",
    "  # echo: false\n",
    "  freeze: auto  # re-render only when source changes\n",
    "format:\n",
    "  html:\n",
    "    code-fold: true\n",
    "    code-summary: \"Show the code\"\n",
    "---"
   ]
  },
  {
   "cell_type": "markdown",
   "id": "9810fd05",
   "metadata": {},
   "source": [
    "The permutation tests from before do not sample from the full distribution of the test statistic under the null hypothesis.\n",
    "This would be imppractical if the total number of permutations is large, as it would require computing the test statistic for every possible permutation of the data.\n",
    "\n",
    "For example, if we have 10 boys and 14 girls, the total number of permutations is almost two million:\n",
    "\n",
    "$$\n",
    "\\binom{24}{14} = \\frac{24!}{14!\\cdot(24-14)!} = 1961256\n",
    "$$\n",
    "\n",
    "The expression above is the binomial coefficient, which counts the number of ways to choose 14 samples from a total of 24, without regard to the order of selection. This is why we say \"24 choose 14\" to refer to the parenthesis above.\n",
    "\n",
    "There is no preference in \"24 choose 14\" over \"24 choose 10\", as both expressions yield the same result. You can verify this on your own.\n",
    "\n",
    "## Monte Carlo permutation tests\n",
    "\n",
    "Monte Carlo methods are a class of computational algorithms that rely on repeated random sampling to obtain numerical results. In the context of permutation tests, Monte Carlo methods do not compute the test statistic for every possible permutation of the data. In the examples from before, we computed 1000 permutations only, and from that we estimated the p-value of the test statistic. If we had run the test more than once, we would have obtained a different p-value each time, as the test statistic is computed from a random sample of permutations."
   ]
  },
  {
   "cell_type": "code",
   "execution_count": 1,
   "id": "c4a53a23",
   "metadata": {},
   "outputs": [],
   "source": [
    "#| code-summary: \"import libraries\"\n",
    "import pandas as pd\n",
    "import numpy as np\n",
    "import matplotlib.pyplot as plt\n",
    "import seaborn as sns\n",
    "sns.set_theme(style=\"ticks\", font_scale=1.5)\n",
    "from scipy.stats import norm, ttest_ind, t\n",
    "# %matplotlib widget"
   ]
  },
  {
   "cell_type": "code",
   "execution_count": 2,
   "id": "14e9a41d",
   "metadata": {},
   "outputs": [],
   "source": [
    "#| code-summary: \"load data\"\n",
    "df_boys = pd.read_csv('../archive/data/height/boys_height_stats.csv', index_col=0)\n",
    "df_girls = pd.read_csv('../archive/data/height/girls_height_stats.csv', index_col=0)\n",
    "age = 12.0\n",
    "mu_boys = df_boys.loc[age, 'mu']\n",
    "mu_girls = df_girls.loc[age, 'mu']\n",
    "sigma_boys = df_boys.loc[age, 'sigma']\n",
    "sigma_girls = df_girls.loc[age, 'sigma']"
   ]
  },
  {
   "cell_type": "code",
   "execution_count": 3,
   "id": "4d39b01b",
   "metadata": {},
   "outputs": [],
   "source": [
    "#| code-summary: \"generate data\"\n",
    "N_boys = 10\n",
    "N_girls = 14\n",
    "# set scipy seed for reproducibility\n",
    "np.random.seed(314)\n",
    "sample_boys = norm.rvs(size=N_boys, loc=mu_boys, scale=sigma_boys)\n",
    "sample_girls = norm.rvs(size=N_girls, loc=mu_girls, scale=sigma_girls)"
   ]
  },
  {
   "cell_type": "code",
   "execution_count": 4,
   "id": "97108a00",
   "metadata": {},
   "outputs": [],
   "source": [
    "#| code-summary: \"compute the observed difference in medians\"\n",
    "# define the desired statistic.\n",
    "# in can be anything you want, you can even write your own function.\n",
    "statistic = np.median\n",
    "# compute the median for each sample and the difference\n",
    "median_girls = statistic(sample_girls)\n",
    "median_boys = statistic(sample_boys)\n",
    "observed_diff = median_girls - median_boys"
   ]
  },
  {
   "cell_type": "code",
   "execution_count": 5,
   "id": "4058f612",
   "metadata": {},
   "outputs": [
    {
     "name": "stdout",
     "output_type": "stream",
     "text": [
      "Monte Carlo permutation test 1\n",
      "observed difference: -0.314\n",
      "p-value (one-tailed): 0.5450\n"
     ]
    }
   ],
   "source": [
    "#| code-summary: \"Monte Carlo permutation test 1\"\n",
    "N_permutations = 1000\n",
    "# combine all values in one array\n",
    "all_data = np.concatenate([sample_girls, sample_boys])\n",
    "# create an array to store the differences\n",
    "diffs = np.empty(N_permutations-1)\n",
    "\n",
    "for i in range(N_permutations - 1):    # this \"minus 1\" will be explained later\n",
    "    # permute the labels\n",
    "    permuted = np.random.permutation(all_data)\n",
    "    new_girls = permuted[:N_girls]  # first 14 values are girls\n",
    "    new_boys = permuted[N_girls:]   # remaining values are boys\n",
    "    diffs[i] = statistic(new_girls) - statistic(new_boys)\n",
    "# add the observed difference to the array of differences\n",
    "diffs = np.append(diffs, observed_diff)\n",
    "\n",
    "p_value = np.mean(diffs >= observed_diff)\n",
    "# two-tailed p-value\n",
    "# p_value = np.mean(np.abs(diffs) >= np.abs(observed_diff))\n",
    "print(\"Monte Carlo permutation test 1\")\n",
    "print(f\"observed difference: {observed_diff:.3f}\")\n",
    "print(f\"p-value (one-tailed): {p_value:.4f}\")"
   ]
  },
  {
   "cell_type": "code",
   "execution_count": 6,
   "id": "0be19546",
   "metadata": {},
   "outputs": [
    {
     "name": "stdout",
     "output_type": "stream",
     "text": [
      "Monte Carlo permutation test 2\n",
      "observed difference: -0.314\n",
      "p-value (one-tailed): 0.5340\n"
     ]
    }
   ],
   "source": [
    "#| code-summary: \"Monte Carlo permutation test 2\"\n",
    "N_permutations = 1000\n",
    "# combine all values in one array\n",
    "all_data = np.concatenate([sample_girls, sample_boys])\n",
    "# create an array to store the differences\n",
    "diffs = np.empty(N_permutations-1)\n",
    "\n",
    "for i in range(N_permutations - 1):    # this \"minus 1\" will be explained later\n",
    "    # permute the labels\n",
    "    permuted = np.random.permutation(all_data)\n",
    "    new_girls = permuted[:N_girls]  # first 14 values are girls\n",
    "    new_boys = permuted[N_girls:]   # remaining values are boys\n",
    "    diffs[i] = statistic(new_girls) - statistic(new_boys)\n",
    "# add the observed difference to the array of differences\n",
    "diffs = np.append(diffs, observed_diff)\n",
    "\n",
    "p_value = np.mean(diffs >= observed_diff)\n",
    "# two-tailed p-value\n",
    "# p_value = np.mean(np.abs(diffs) >= np.abs(observed_diff))\n",
    "print(\"Monte Carlo permutation test 2\")\n",
    "print(f\"observed difference: {observed_diff:.3f}\")\n",
    "print(f\"p-value (one-tailed): {p_value:.4f}\")"
   ]
  },
  {
   "cell_type": "markdown",
   "id": "eb18dab5",
   "metadata": {},
   "source": [
    "As you can see, the p-value in not exactly the same, but the difference is negligible. This is because both times we sampled 1000 permutations that are representative of the full distribution of the test statistic under the null hypothesis.\n",
    "\n",
    "One more thing. The example above with 10 boys and 14 girls is usually considered small. It is often the case that one has a lot more samples, and the number of permutations can be astronomically large, much much larger than two million."
   ]
  },
  {
   "cell_type": "markdown",
   "id": "698e1f12",
   "metadata": {},
   "source": [
    "## exact permutation test\n",
    "\n",
    "If the total number of permutations is small, we can compute the **exact** p-value by sampling from the full distribution of the test statistic under the null hypothesis. That is to say, we compute the test statistic for every possible permutation of the data.\n",
    "\n",
    "If we had height measurements of 7 boys and 6 girls, the total number of permutations is:\n",
    "\n",
    "$$\n",
    "\\binom{13}{7} = 1716\n",
    "$$\n",
    "\n",
    "Any computer can easily handle this number of permutations. How to do it in practice? We will use the `itertools.combinations` function."
   ]
  },
  {
   "cell_type": "code",
   "execution_count": 7,
   "id": "035512de",
   "metadata": {},
   "outputs": [
    {
     "name": "stdout",
     "output_type": "stream",
     "text": [
      "Observed difference: 7.620 cm\n",
      "Exact p-value (one-tailed): 0.0944\n",
      "Total permutations: 1716\n"
     ]
    }
   ],
   "source": [
    "import numpy as np\n",
    "from itertools import combinations\n",
    "\n",
    "#| code-summary: \"generate data\"\n",
    "N_girls = 6\n",
    "N_boys = 7\n",
    "# set scipy seed for reproducibility\n",
    "np.random.seed(314)\n",
    "sample_girls = norm.rvs(size=N_girls, loc=mu_girls, scale=sigma_girls)\n",
    "sample_boys = norm.rvs(size=N_boys, loc=mu_boys, scale=sigma_boys)\n",
    "\n",
    "combined = np.concatenate([sample_girls, sample_boys])\n",
    "n_total = len(combined)\n",
    "\n",
    "# observed difference in means\n",
    "observed_diff = np.median(sample_girls) - np.median(sample_boys)\n",
    "\n",
    "# generate all combinations of indices for group \"girls\"\n",
    "indices = np.arange(n_total)\n",
    "all_combos = list(combinations(indices, N_girls))\n",
    "\n",
    "# compute all permutations\n",
    "diffs = []\n",
    "for idx_a in all_combos:\n",
    "    mask = np.zeros(n_total, dtype=bool)\n",
    "    mask[list(idx_a)] = True\n",
    "    sample_g = combined[mask]\n",
    "    sample_b = combined[~mask]\n",
    "    diffs.append(np.median(sample_g) - np.median(sample_b))\n",
    "\n",
    "diffs = np.array(diffs)\n",
    "\n",
    "# exact one-tailed p-value\n",
    "p_value = np.mean(diffs >= observed_diff)\n",
    "print(f\"Observed difference: {observed_diff:.3f} cm\")\n",
    "print(f\"Exact p-value (one-tailed): {p_value:.4f}\")\n",
    "print(f\"Total permutations: {len(diffs)}\")\n"
   ]
  },
  {
   "cell_type": "markdown",
   "id": "f50a85bf",
   "metadata": {},
   "source": [
    "**Attention!**\n",
    "\n",
    "If you read the documentation of the `itertools` library, you might be tempted to use `itertools.permutations` instead of `itertools.combinations`.\n",
    "\n",
    "Don't do that.\n",
    "\n",
    "Although we are conductiong a permutation test, we are not interested in the order of the samples, and that is what the `permutations` cares about. For instance, if we have 10 people called\n",
    "\n",
    "[Alice, Bob, Charlie, David, Eve, Frank, Grace, Heidi, Ivan, Judy]\n",
    "\n",
    "and we want to randomly assign the label \"girl\" to 4 of them, we do not care about the order in which we assign the labels. We just want to know which 4 people are assigned the label \"girl\". The permutation function does care about the order, and that is why we should not use it. Instead, we use the `combinations` function, which return all possible combinations of the data, without regard to the order of selection."
   ]
  },
  {
   "cell_type": "markdown",
   "id": "00ed14f7",
   "metadata": {},
   "source": []
  }
 ],
 "metadata": {
  "kernelspec": {
   "display_name": "olympus",
   "language": "python",
   "name": "python3"
  },
  "language_info": {
   "codemirror_mode": {
    "name": "ipython",
    "version": 3
   },
   "file_extension": ".py",
   "mimetype": "text/x-python",
   "name": "python",
   "nbconvert_exporter": "python",
   "pygments_lexer": "ipython3",
   "version": "3.11.10"
  }
 },
 "nbformat": 4,
 "nbformat_minor": 5
}
