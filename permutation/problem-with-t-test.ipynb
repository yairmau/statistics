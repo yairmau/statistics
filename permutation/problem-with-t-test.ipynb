{
 "cells": [
  {
   "cell_type": "markdown",
   "id": "e137246d",
   "metadata": {},
   "source": [
    "# the problem with t-test"
   ]
  },
  {
   "cell_type": "markdown",
   "id": "7c997875",
   "metadata": {},
   "source": [
    "Let's go back to the example of the [independent samples t-test](/t_test/t_test_independent_samples.html).\n",
    "\n",
    "We sampled 10 boys and 14 girls, age 12, and asked:\n",
    "\n",
    "> Are 12-year old girls significantly taller than 12-year old boys?\n",
    "\n",
    "We then went about answering this question by talking about the means of each sample, and if the differences between the means were large enough to be considered significant.\n",
    "\n",
    "The whole machinery behind the t-test is based on the normality assumption.\n",
    "\n",
    "## the normality assumption\n",
    "\n",
    "Two possible interpretations come to mind.\n",
    "\n",
    "1. The assumption is that the height of men and women in the *population* is normally distributed. From these idealized populations we draw samples.\n",
    "1. The t-test effectively compares the difference between the means of the two samples, and the variability within each sample. Because of the Central Limit Theorem, the means of the samples will approach a normal distribution as the sample size increases. In this interpretation, the normality assumption is about the distribution of the means of the samples, and not the distribution of the population.\n",
    "\n",
    "In the context of the t-test, the above is a distinction without a difference. Even if the population is not normally distributed, the means of the samples will be normally distributed as long as the sample size is large enough. We then use the t-test and go on with our lives.\n",
    "\n",
    "## other statistical tests\n",
    "\n",
    "The Central Limit Theorem dictates that the means will be normally distributed, but it does not apply to other statistics, such as:\n",
    "\n",
    "- the median\n",
    "- the variance\n",
    "- the skewness\n",
    "- the maximum\n",
    "- the Interquartile Range (IQR)\n",
    "- etc.\n",
    "\n",
    "In this case, the t-test can't be relied upon, and we need another solution."
   ]
  }
 ],
 "metadata": {
  "language_info": {
   "name": "python"
  }
 },
 "nbformat": 4,
 "nbformat_minor": 5
}
